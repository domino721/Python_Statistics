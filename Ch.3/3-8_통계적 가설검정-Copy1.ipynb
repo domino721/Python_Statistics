{
 "cells": [
  {
   "cell_type": "markdown",
   "metadata": {},
   "source": [
    "# ch.3　Python을 이용한 데이터 분석\n",
    "\n",
    "## 3.8 통계적 가설검정"
   ]
  },
  {
   "cell_type": "markdown",
   "metadata": {},
   "source": [
    "### 3.8.1 통계적가설검정\n",
    "통계적가설검정: 표본을 사용해서 모집단에 대한 통계적인 판단을 내리는 방법."
   ]
  },
  {
   "cell_type": "markdown",
   "metadata": {},
   "source": [
    "### 3.8.2 1변량 데이터의 t검정\n",
    "첫번째 추정방법.  \n",
    "t검정의 특징:  \n",
    "- 대상: 평균값\n",
    "- 판단하는것: 평균값이 어떤 값과 다른지 얘기할 수 있는지 여부\n",
    "\n",
    "t검정은 1변량 데이터 이외에도 사용가능하지만 이 장에서는 1변량 데이터만을 대상으로 한다."
   ]
  },
  {
   "cell_type": "markdown",
   "metadata": {},
   "source": [
    "### 3.8.3 유의미한 차이"
   ]
  },
  {
   "cell_type": "markdown",
   "metadata": {},
   "source": [
    "### 3.8.4 t검정: 직관적인 생각\n",
    "t검정에서의 유의미한 차이\n",
    "1. 큰 샘플에서 조사했다: 샘플의 사이즈가 크다\n",
    "2. 정밀한 저울로 측정했다: 데이터의 흩어짐(분산)이 작다.\n",
    "3. 중량의 평균값이 50g에서 크게 벗어난다: 평균값의 차이가 크다.\n",
    "  \n",
    "이 3가지 조건이 충족되었을 때 t분산의 평균값이 어떠한 값과의 유의미한 차이를 보였다고 할 수 있다."
   ]
  },
  {
   "cell_type": "markdown",
   "metadata": {},
   "source": [
    "### 3.8.5 평균값의 차이가 큰 것 만으로는 유의미한 차이를 얻을 수 있다.\n",
    "\n",
    "샘플사이즈와 흔터짐 정도(분산)이 없는 평균값의 차이 비교는 결코 의미있는 차이라고 할 수 없다."
   ]
  },
  {
   "cell_type": "markdown",
   "metadata": {},
   "source": [
    "### 3.8.6 t값\n",
    "결국 다음의 3가지 조건을 모두 만족한 지표만을 t값이라고 부를 수 있다.\n",
    "1. 큰 샘플에서 조사했다: 샘플의 사이즈가 크다\n",
    "2. 정밀한 저울로 측정했다: 데이터의 흩어짐(분산)이 작다.\n",
    "3. 중량의 평균값이 50g에서 크게 벗어난다: 평균값의 차이가 크다.\n",
    "  \n",
    "t값의 계산은 아래와 같다.  \n",
    "t값 = (표본평균 - 비교대상값) / (표준편차 / 샘플사이즈의 제곱근) = (표본평균 - 비교대상값) / 표준오차"
   ]
  },
  {
   "cell_type": "markdown",
   "metadata": {},
   "source": [
    "### 3.8.7 통계적 가설검정의 틀: 귀무가설 대립가설\n",
    "\n",
    "통계적 가설검정은 가설을 세워서 그 가설이 기각되는지 판단함으로써 데이터에 대한 객관적인 판단을 시도한다.  \n",
    "귀무가설: 기각대상이 되는 첫번째 가설  \n",
    "대립가설: 귀무가설과 대립되는 가설. 귀무가설의 여집합이라고 볼 수 있겠다."
   ]
  },
  {
   "cell_type": "markdown",
   "metadata": {},
   "source": [
    "### 3.8.8 p값\n",
    "p값: 표본과 귀무가설 간의 모순을 나타내는 지표. p값이 작을수록 귀무가설과 표본이 모순된다고 생각할 수 있다."
   ]
  },
  {
   "cell_type": "markdown",
   "metadata": {},
   "source": [
    "### 3.8.9 유의수준\n",
    "p값이 유의수준을 밑돌면 귀무가설을 기각한다.  \n",
    "즉, 유의수준은 귀무가설을 기각하는 기준이 될 수 있는 값이라고 할 수 있다.  \n",
    "유의수준은 주로 5%를 사용한다.  \n",
    "다른말로 유의수준을 위험률이라고도 한다."
   ]
  },
  {
   "cell_type": "markdown",
   "metadata": {},
   "source": [
    "### 3.8.10 t검정과 t분포의 관계\n",
    "t검정을 통한 비교대상값이 모평균과 같고 모집단이 정규분포라고 가정한다면, 표본의 t값은 t분포를 따르는 것이 된다.  \n",
    "이때 표본에서 계산한 t값의 절대값 = t_{표본}\n",
    "t_{표본}보다 t값이 작을 확률을 a라 하면\n",
    "1-a는 모평균을 50이라 가정했을 때 t값이 t_표본보다 클 확률을 계산할 수 있다.\n",
    "1-a가 작아지면 t값이 t_{표본}보다 클 확률이 낮다(즉, t_표본이 충분히 크다)는 말이되어 유의미한 차이를 얻을 수 있다.\n",
    "\n",
    "\n",
    "  \n",
    "  \n",
    "    \n",
    "    \n",
    "    이거 무슨말인지 좀 알려줄 사람~"
   ]
  },
  {
   "cell_type": "markdown",
   "metadata": {},
   "source": [
    "### 3.8.11 단측검정과 양측검정\n",
    "단측검정: 주로 어떠한 값(주로 평균)이 일정한 값보다 작다는 것, 혹은 크다는 것을 알아보기 위해 사용된다.  \n",
    "양측검정: 내가 구한 값이 일정한 상수 값과 '다르다'는 것을 알아보기 위한 검정 방법이다.  \n",
    "주로, 통계적 가설에선 양측검정을 쓴다."
   ]
  },
  {
   "cell_type": "markdown",
   "metadata": {},
   "source": [
    "### 3.8.12 p값 계산 방법\n",
    "p값=(1-a)x2"
   ]
  },
  {
   "cell_type": "markdown",
   "metadata": {},
   "source": [
    "### 3.8.13 t검정의 구현: 분석 준비"
   ]
  },
  {
   "cell_type": "code",
   "execution_count": 1,
   "metadata": {},
   "outputs": [],
   "source": [
    "import numpy as np\n",
    "import pandas as pd\n",
    "import scipy as sp\n",
    "from scipy import stats\n",
    "\n",
    "from matplotlib import pyplot as plt\n",
    "import seaborn as sns\n",
    "sns.set()\n",
    "\n",
    "%precision 3\n",
    "\n",
    "%matplotlib inline"
   ]
  },
  {
   "cell_type": "code",
   "execution_count": 2,
   "metadata": {
    "scrolled": true
   },
   "outputs": [
    {
     "data": {
      "text/plain": [
       "0    58.529820\n",
       "1    52.353039\n",
       "2    74.446169\n",
       "3    52.983263\n",
       "4    55.876879\n",
       "Name: weight, dtype: float64"
      ]
     },
     "execution_count": 2,
     "metadata": {},
     "output_type": "execute_result"
    }
   ],
   "source": [
    "# 데이터 불러오기\n",
    "junk_food = pd.read_csv(\n",
    "    \"3-8-1-junk-food-weight.csv\")[\"weight\"]\n",
    "junk_food.head()"
   ]
  },
  {
   "cell_type": "markdown",
   "metadata": {},
   "source": [
    "귀무가설: 봉지과자의 평균 중량은 50g이다.  \n",
    "대립가설: 봉지과자의 평균 중량은 50g이 아니다."
   ]
  },
  {
   "cell_type": "markdown",
   "metadata": {},
   "source": [
    "### 3.8.14 t검정의 구현: t값 계산"
   ]
  },
  {
   "cell_type": "code",
   "execution_count": 3,
   "metadata": {},
   "outputs": [
    {
     "data": {
      "text/plain": [
       "55.385"
      ]
     },
     "execution_count": 3,
     "metadata": {},
     "output_type": "execute_result"
    }
   ],
   "source": [
    "# 표본평균\n",
    "mu = np.mean(junk_food)\n",
    "mu"
   ]
  },
  {
   "cell_type": "code",
   "execution_count": 4,
   "metadata": {},
   "outputs": [
    {
     "data": {
      "text/plain": [
       "19"
      ]
     },
     "execution_count": 4,
     "metadata": {},
     "output_type": "execute_result"
    }
   ],
   "source": [
    "# 자유도\n",
    "df = len(junk_food) - 1\n",
    "df"
   ]
  },
  {
   "cell_type": "code",
   "execution_count": 5,
   "metadata": {},
   "outputs": [
    {
     "data": {
      "text/plain": [
       "1.957927680575589"
      ]
     },
     "execution_count": 5,
     "metadata": {},
     "output_type": "execute_result"
    }
   ],
   "source": [
    "# 표준오차\n",
    "sigma = np.std(junk_food, ddof = 1)\n",
    "se = sigma / np.sqrt(len(junk_food))\n",
    "se"
   ]
  },
  {
   "cell_type": "code",
   "execution_count": 6,
   "metadata": {},
   "outputs": [
    {
     "data": {
      "text/plain": [
       "2.750339683171343"
      ]
     },
     "execution_count": 6,
     "metadata": {},
     "output_type": "execute_result"
    }
   ],
   "source": [
    "# t값 계산\n",
    "t_value = (mu - 50) / se\n",
    "t_value"
   ]
  },
  {
   "cell_type": "markdown",
   "metadata": {},
   "source": [
    "### 3.8.15 t검정의 구현: p값 계산"
   ]
  },
  {
   "cell_type": "code",
   "execution_count": 7,
   "metadata": {},
   "outputs": [
    {
     "data": {
      "text/plain": [
       "0.012725590012524046"
      ]
     },
     "execution_count": 7,
     "metadata": {},
     "output_type": "execute_result"
    }
   ],
   "source": [
    "# p값\n",
    "alpha = stats.t.cdf(t_value, df = df)\n",
    "(1 - alpha) * 2"
   ]
  },
  {
   "cell_type": "code",
   "execution_count": 8,
   "metadata": {},
   "outputs": [
    {
     "data": {
      "text/plain": [
       "Ttest_1sampResult(statistic=2.750339683171343, pvalue=0.012725590012524182)"
      ]
     },
     "execution_count": 8,
     "metadata": {},
     "output_type": "execute_result"
    }
   ],
   "source": [
    "# t검정\n",
    "stats.ttest_1samp(junk_food, 50)"
   ]
  },
  {
   "cell_type": "markdown",
   "metadata": {},
   "source": [
    "statistic=2.750339683171343이 t 값, pvalue=0.012725590012524182가 p값이다."
   ]
  },
  {
   "cell_type": "markdown",
   "metadata": {
    "collapsed": true
   },
   "source": [
    "### 3.8.16 시뮬레이션에 의한 p값 계산"
   ]
  },
  {
   "cell_type": "code",
   "execution_count": 9,
   "metadata": {},
   "outputs": [],
   "source": [
    "# 샘플사이즈, 표준편차\n",
    "size = len(junk_food)\n",
    "sigma = np.std(junk_food, ddof = 1)"
   ]
  },
  {
   "cell_type": "code",
   "execution_count": 10,
   "metadata": {},
   "outputs": [],
   "source": [
    "# 50000번 t값 계산 \n",
    "t_value_array = np.zeros(50000)"
   ]
  },
  {
   "cell_type": "code",
   "execution_count": 11,
   "metadata": {},
   "outputs": [],
   "source": [
    "# 평균값 50으로 설정하여 귀무가설이 옳다고 가정하고, 표본추출과 t값 계산 반복\n",
    "np.random.seed(1)\n",
    "norm_dist = stats.norm(loc = 50, scale = sigma)\n",
    "for i in range(0, 50000):\n",
    "    sample = norm_dist.rvs(size = size)\n",
    "    sample_mean = np.mean(sample)\n",
    "    sample_std = np.std(sample, ddof = 1)\n",
    "    sample_se = sample_std / np.sqrt(size)\n",
    "    t_value_array[i] = (sample_mean - 50) / sample_se"
   ]
  },
  {
   "cell_type": "code",
   "execution_count": 12,
   "metadata": {},
   "outputs": [
    {
     "data": {
      "text/plain": [
       "0.01324"
      ]
     },
     "execution_count": 12,
     "metadata": {},
     "output_type": "execute_result"
    }
   ],
   "source": [
    "(sum(t_value_array > t_value) / 50000) * 2"
   ]
  },
  {
   "cell_type": "markdown",
   "metadata": {
    "collapsed": true
   },
   "source": [
    "이론으로 계산한 값과 거의 일치한다."
   ]
  }
 ],
 "metadata": {
  "kernelspec": {
   "display_name": "Python 3",
   "language": "python",
   "name": "python3"
  },
  "language_info": {
   "codemirror_mode": {
    "name": "ipython",
    "version": 3
   },
   "file_extension": ".py",
   "mimetype": "text/x-python",
   "name": "python",
   "nbconvert_exporter": "python",
   "pygments_lexer": "ipython3",
   "version": "3.8.5"
  }
 },
 "nbformat": 4,
 "nbformat_minor": 2
}
