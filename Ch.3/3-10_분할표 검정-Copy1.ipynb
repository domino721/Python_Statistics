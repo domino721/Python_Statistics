{
 "cells": [
  {
   "cell_type": "markdown",
   "metadata": {},
   "source": [
    "# ch.3　Python을 이용한 데이터 분석\n",
    "\n",
    "## 3.10 분할표 검정"
   ]
  },
  {
   "cell_type": "markdown",
   "metadata": {},
   "source": [
    "### 3.10.1 분할표를 사용할 때의 장점\n",
    "ex. 웹사이트 운영시, 상품의 구입이나 문의 버튼의 클릭률이 버튼 색에 따라 달라지는지 조사를 한다.\n",
    "1. 이때 버튼을 클릭한 사람의 수만 가지고 데이터를 다루면 오해가 생긴다.\n",
    "2. 클릭하지 않은 수 역시 같이 봐주어야한다.(책 참조)"
   ]
  },
  {
   "cell_type": "markdown",
   "metadata": {},
   "source": [
    "### 3.10.2 이 절에서 다룰 예제\n",
    "|      | 클릭함 | 클릭하지 않음 | 합계 |\n",
    "| :--: | :----: | :-----------: | :--: |\n",
    "| 파랑 |   20   |      230      | 250  |\n",
    "| 빨강 |   10   |      40       |  50  |\n",
    "| 합계 |   30   |      270      | 300  |\n",
    "\n",
    "관측도수: 실제 관측된 데이터  \n",
    "클릭률: 파란버튼 8% / 빨간버튼 20%"
   ]
  },
  {
   "cell_type": "markdown",
   "metadata": {},
   "source": [
    "### 3.10.3 기대도수 구하기\n",
    "기대도수: 버튼 색에 따라 버튼 클릭이 변하지 않는다면 어떤 결과가 될지 예상을 해보자. 이 때 기대되는 도수를 의미한다.  \n",
    "클릭함:클릭하지않음=30:270(1:9)  \n",
    "파란버튼 실험대상 250명, 빨강버튼 실험대상 50명이므로 기대도수는 파란버튼을 클릭한 사람은 25명, 빨간 버튼을 클릭한 사람은 5명이다."
   ]
  },
  {
   "cell_type": "markdown",
   "metadata": {},
   "source": [
    "### 3.10.4 기대도수와의 차이 구하기\n",
    "실제 값에 기대도수를 뺀 다음 제곱하고 기대도수값을 나눠준 후 더하면 카이제곱이 구해진다.\n",
    "책 참조"
   ]
  },
  {
   "cell_type": "markdown",
   "metadata": {},
   "source": [
    "### 3.10.5 p값 계산"
   ]
  },
  {
   "cell_type": "code",
   "execution_count": 2,
   "metadata": {},
   "outputs": [],
   "source": [
    "import numpy as np\n",
    "import pandas as pd\n",
    "import scipy as sp\n",
    "from scipy import stats\n",
    "\n",
    "from matplotlib import pyplot as plt\n",
    "import seaborn as sns\n",
    "sns.set()\n",
    "\n",
    "%precision 3\n",
    "\n",
    "%matplotlib inline"
   ]
  },
  {
   "cell_type": "code",
   "execution_count": 4,
   "metadata": {},
   "outputs": [
    {
     "data": {
      "text/plain": [
       "0.009821437357809604"
      ]
     },
     "execution_count": 4,
     "metadata": {},
     "output_type": "execute_result"
    }
   ],
   "source": [
    "# 자유도가 1인 카이제곱 분포의 누적밀도 함수를 사용해서 p 값을 계산해보자.\n",
    "1 - sp.stats.chi2.cdf(x = 6.667, df = 1)"
   ]
  },
  {
   "cell_type": "markdown",
   "metadata": {},
   "source": [
    "0.05보자 p 값이 작기 때문에 귀무가설을 기각하여 유의미하게 변한다고 판단할 수 있다."
   ]
  },
  {
   "cell_type": "markdown",
   "metadata": {},
   "source": [
    "### 3.10.6 분할표 검정(실습)"
   ]
  },
  {
   "cell_type": "code",
   "execution_count": 5,
   "metadata": {
    "scrolled": true
   },
   "outputs": [
    {
     "name": "stdout",
     "output_type": "stream",
     "text": [
      "  color  click  freq\n",
      "0  blue  click    20\n",
      "1  blue    not   230\n",
      "2   red  click    10\n",
      "3   red    not    40\n"
     ]
    }
   ],
   "source": [
    "# 데이터 읽기\n",
    "click_data = pd.read_csv(\"3-10-1-click_data.csv\")\n",
    "print(click_data)"
   ]
  },
  {
   "cell_type": "code",
   "execution_count": 6,
   "metadata": {},
   "outputs": [
    {
     "name": "stdout",
     "output_type": "stream",
     "text": [
      "click  click  not\n",
      "color            \n",
      "blue      20  230\n",
      "red       10   40\n"
     ]
    }
   ],
   "source": [
    "# 분할표로 표시\n",
    "cross = pd.pivot_table(\n",
    "    data = click_data,\n",
    "    values = \"freq\",\n",
    "    aggfunc = \"sum\",\n",
    "    index = \"color\",\n",
    "    columns = \"click\"\n",
    ")\n",
    "print(cross)"
   ]
  },
  {
   "cell_type": "code",
   "execution_count": 8,
   "metadata": {},
   "outputs": [
    {
     "data": {
      "text/plain": [
       "(6.666666666666666,\n",
       " 0.009823274507519247,\n",
       " 1,\n",
       " array([[ 25., 225.],\n",
       "        [  5.,  45.]]))"
      ]
     },
     "execution_count": 8,
     "metadata": {},
     "output_type": "execute_result"
    }
   ],
   "source": [
    "# 검정을 해보자.\n",
    "sp.stats.chi2_contingency(cross, correction = False)"
   ]
  },
  {
   "cell_type": "markdown",
   "metadata": {},
   "source": [
    "결과는 카이제곱 통계량, p값, 자유도, 기대도수 표 순서대로 출력된 것을 볼 수 있더."
   ]
  }
 ],
 "metadata": {
  "kernelspec": {
   "display_name": "Python 3",
   "language": "python",
   "name": "python3"
  },
  "language_info": {
   "codemirror_mode": {
    "name": "ipython",
    "version": 3
   },
   "file_extension": ".py",
   "mimetype": "text/x-python",
   "name": "python",
   "nbconvert_exporter": "python",
   "pygments_lexer": "ipython3",
   "version": "3.8.5"
  }
 },
 "nbformat": 4,
 "nbformat_minor": 2
}
