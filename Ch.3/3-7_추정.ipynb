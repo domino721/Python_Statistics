{
 "cells": [
  {
   "cell_type": "markdown",
   "metadata": {},
   "source": [
    "# ch.3　Python을 이용한 데이터 분석\n",
    "\n",
    "## 3.7 추정"
   ]
  },
  {
   "cell_type": "markdown",
   "metadata": {},
   "source": [
    "### 3.7.1 분석준비"
   ]
  },
  {
   "cell_type": "code",
   "execution_count": 16,
   "metadata": {},
   "outputs": [],
   "source": [
    "import numpy as np\n",
    "import pandas as pd\n",
    "import scipy as sp\n",
    "from scipy import stats\n",
    "\n",
    "from matplotlib import pyplot as plt\n",
    "import seaborn as sns\n",
    "sns.set()\n",
    "\n",
    "%precision 3\n",
    "\n",
    "%matplotlib inline"
   ]
  },
  {
   "cell_type": "code",
   "execution_count": 22,
   "metadata": {},
   "outputs": [
    {
     "data": {
      "text/plain": [
       "0    4.352982\n",
       "1    3.735304\n",
       "2    5.944617\n",
       "3    3.798326\n",
       "4    4.087688\n",
       "5    5.265985\n",
       "6    3.272614\n",
       "7    3.526691\n",
       "8    4.150083\n",
       "9    3.736104\n",
       "Name: length, dtype: float64"
      ]
     },
     "execution_count": 22,
     "metadata": {},
     "output_type": "execute_result"
    }
   ],
   "source": [
    "# 데이터 불러오기\n",
    "fish = pd.read_csv(\"3-7-1-fish_length.csv\")[\"length\"]\n",
    "fish"
   ]
  },
  {
   "cell_type": "markdown",
   "metadata": {},
   "source": [
    "### 3.7.2 점추정\n",
    "\n",
    "점추정: 모수를 어느 1개의 값으로 추정하는 추정방법  \n",
    "- 표본평균을 추정값으로 모평균을 추정하듯이, 표본에서 평균값을 계산하는 것이다.\n",
    "- 이때 표본평균을 사용할 수 있는건 표본평균이 불편성과 일치성을 가지고 있기 때문이다.  \n",
    "~3.5절에서 겁나 열심히 알아본 내용이다.~"
   ]
  },
  {
   "cell_type": "code",
   "execution_count": 18,
   "metadata": {},
   "outputs": [
    {
     "data": {
      "text/plain": [
       "4.187"
      ]
     },
     "execution_count": 18,
     "metadata": {},
     "output_type": "execute_result"
    }
   ],
   "source": [
    "# 모평균의 점추정 파이썬코드로 구현\n",
    "mu = np.mean(fish)\n",
    "mu"
   ]
  },
  {
   "cell_type": "code",
   "execution_count": 19,
   "metadata": {},
   "outputs": [
    {
     "data": {
      "text/plain": [
       "0.680"
      ]
     },
     "execution_count": 19,
     "metadata": {},
     "output_type": "execute_result"
    }
   ],
   "source": [
    "# 표본의 불편분산\n",
    "sigma_2 = np.var(fish, ddof = 1)\n",
    "sigma_2"
   ]
  },
  {
   "cell_type": "markdown",
   "metadata": {},
   "source": [
    "### 3.7.3 구간추정\n",
    "구간추정: 추정값이 폭을 가지게 하는 추정 방법\n",
    "- 이때 폭 계산을 위해 확률의 개념이 사용된다.\n",
    "- 추정오차가 작으면, 구간추정의 폭이 좁아진다.\n",
    "- 샘플사이즈가 커지면, 구간추정의 폭이 좁아진다."
   ]
  },
  {
   "cell_type": "markdown",
   "metadata": {},
   "source": [
    "### 3.7.4 신뢰계수와 신뢰구간\n",
    "신뢰계수: 구간추정의 폭에 대한 신뢰정도를 확률로 표현한 값.\n",
    "- 95%, 99% 가 자주 사용된다.  \n",
    "\n",
    "신뢰구간: 특정 신뢰계수를 만족하는 구간"
   ]
  },
  {
   "cell_type": "markdown",
   "metadata": {},
   "source": [
    "### 3.7.5 신뢰한계\n",
    "신뢰한계: 신뢰구간의 하한값과 상한값.\n",
    "  - 각각 하측신뢰한계, 상측신뢰한계라고 한다."
   ]
  },
  {
   "cell_type": "markdown",
   "metadata": {},
   "source": [
    "### 3.7.6 신뢰구간 계산 방법\n",
    "\n",
    "구간추정시에는 t분포의 퍼센트포인트 개념을 이용한다. \n",
    "예를 들어 신뢰계수가 95%이고 t분포를 따른다면 2.5%와 97.5%의 퍼센트 포인트 사이의 구간에 t분포를 따르는 변수가 들어가는 것이다."
   ]
  },
  {
   "cell_type": "markdown",
   "metadata": {},
   "source": [
    "### 3.7.7 구간추정(실습)\n",
    "구간추정에 필요한 정보: 자유도(샘플사이즈-1), 표본평균, 표준오차"
   ]
  },
  {
   "cell_type": "code",
   "execution_count": 20,
   "metadata": {},
   "outputs": [
    {
     "data": {
      "text/plain": [
       "9"
      ]
     },
     "execution_count": 20,
     "metadata": {},
     "output_type": "execute_result"
    }
   ],
   "source": [
    "# 자유도 구하기\n",
    "df = len(fish) - 1\n",
    "df"
   ]
  },
  {
   "cell_type": "code",
   "execution_count": 25,
   "metadata": {},
   "outputs": [
    {
     "data": {
      "text/plain": [
       "0.2608259396768776"
      ]
     },
     "execution_count": 25,
     "metadata": {},
     "output_type": "execute_result"
    }
   ],
   "source": [
    "# 표준오차 구하기\n",
    "sigma = np.std(fish, ddof=1)\n",
    "se = sigma / np.sqrt(len(fish))\n",
    "se"
   ]
  },
  {
   "cell_type": "code",
   "execution_count": 26,
   "metadata": {},
   "outputs": [
    {
     "data": {
      "text/plain": [
       "(3.597010056835825, 4.777068592173221)"
      ]
     },
     "execution_count": 26,
     "metadata": {},
     "output_type": "execute_result"
    }
   ],
   "source": [
    "# 신뢰구간 계산하기\n",
    "interval = stats.t.interval(\n",
    "    alpha = 0.95, df = df, loc = mu, scale = se)\n",
    "interval\n",
    "\n",
    "# alpha: 신뢰계수 / df: 자유도 / loc: 표본평균, scale: 표준오차"
   ]
  },
  {
   "cell_type": "markdown",
   "metadata": {},
   "source": [
    "### 3.7.8 신뢰구간을 구하는 방법 상세설명\n",
    "1. 어떤 자유도를 가지는 t분포를 따르는 97.5% 지점을 계산한다.\n",
    "    1. t분포를 따르는 97.5% 지점을 t_0.975라고표기한다.\n",
    "    2. t분포는 평균에 대해 좌우대칭이기 때문에 2.5% 지점은 -t_0.975로 표기한다.\n",
    "    3. t분포를 따르는 변수가 -t_0.975이상 t_0.975이하가 되는 확률이 95%이다.\n",
    "        - 이때가 95% 신뢰계수가 된다.\n",
    "2. 표본평균 - t_0.975 X 표준오차가 하측신뢰한계이다.\n",
    "3. 표본평균 + t_0.975 X 표준오차가 상측신뢰한계이다."
   ]
  },
  {
   "cell_type": "code",
   "execution_count": 9,
   "metadata": {},
   "outputs": [
    {
     "data": {
      "text/plain": [
       "2.262"
      ]
     },
     "execution_count": 9,
     "metadata": {},
     "output_type": "execute_result"
    }
   ],
   "source": [
    "# 97.5% 지점구하기\n",
    "t_975 = stats.t.ppf(q = 0.975, df = df)\n",
    "t_975"
   ]
  },
  {
   "cell_type": "code",
   "execution_count": 10,
   "metadata": {},
   "outputs": [
    {
     "data": {
      "text/plain": [
       "3.597"
      ]
     },
     "execution_count": 10,
     "metadata": {},
     "output_type": "execute_result"
    }
   ],
   "source": [
    "# 하측신뢰한계\n",
    "lower = mu - t_975 * se\n",
    "lower"
   ]
  },
  {
   "cell_type": "code",
   "execution_count": 11,
   "metadata": {},
   "outputs": [
    {
     "data": {
      "text/plain": [
       "4.777"
      ]
     },
     "execution_count": 11,
     "metadata": {},
     "output_type": "execute_result"
    }
   ],
   "source": [
    "# 상측신뢰한계\n",
    "upper = mu + t_975 * se\n",
    "upper"
   ]
  },
  {
   "cell_type": "markdown",
   "metadata": {},
   "source": [
    "### 3.7.9 신뢰구간의 폭을 결정하는 요소"
   ]
  },
  {
   "cell_type": "code",
   "execution_count": 29,
   "metadata": {},
   "outputs": [
    {
     "data": {
      "text/plain": [
       "(-1.7132533521824618, 10.087332001191509)"
      ]
     },
     "execution_count": 29,
     "metadata": {},
     "output_type": "execute_result"
    }
   ],
   "source": [
    "# 표본표준편차를 10배로 늘려서 95%신뢰구간 계산하기\n",
    "se2 = (sigma*10) / np.sqrt(len(fish))\n",
    "stats.t.interval(\n",
    "    alpha = 0.95, df = df, loc = mu, scale = se2)\n",
    "#신뢰구간이 넓어진다. 진짜 모평균을 찾기 힘들다는 말과 같다."
   ]
  },
  {
   "cell_type": "code",
   "execution_count": 31,
   "metadata": {},
   "outputs": [
    {
     "data": {
      "text/plain": [
       "(4.0233803082774395, 4.350698340731607)"
      ]
     },
     "execution_count": 31,
     "metadata": {},
     "output_type": "execute_result"
    }
   ],
   "source": [
    "# 샘플사이즈를 늘려보자.\n",
    "df2 = (len(fish)*10) - 1\n",
    "se3 = sigma / np.sqrt(len(fish)*10)\n",
    "stats.t.interval(\n",
    "    alpha = 0.95, df = df2, loc = mu, scale = se3)\n",
    "#신뢰구간이 좁아진다. 평균값을 신뢰할 수 있다."
   ]
  },
  {
   "cell_type": "code",
   "execution_count": 14,
   "metadata": {},
   "outputs": [
    {
     "data": {
      "text/plain": [
       "(3.339, 5.035)"
      ]
     },
     "execution_count": 14,
     "metadata": {},
     "output_type": "execute_result"
    }
   ],
   "source": [
    "# 99%의 신뢰구간 구하기\n",
    "stats.t.interval(\n",
    "    alpha = 0.99, df = df, loc = mu, scale = se)\n",
    "# 신뢰구간의 폭이 넓어진다."
   ]
  },
  {
   "cell_type": "markdown",
   "metadata": {},
   "source": [
    "### 3.7.10 구간추정 결과의 해석"
   ]
  },
  {
   "cell_type": "code",
   "execution_count": 32,
   "metadata": {
    "scrolled": true
   },
   "outputs": [
    {
     "data": {
      "text/plain": [
       "array([False, False, False, ..., False, False, False])"
      ]
     },
     "execution_count": 32,
     "metadata": {},
     "output_type": "execute_result"
    }
   ],
   "source": [
    "# 시행횟수 20000번 중 신뢰구간에 얼마나 해당되는지 알아보자.\n",
    "be_included_array = np.zeros(20000, dtype = \"bool\")\n",
    "be_included_array"
   ]
  },
  {
   "cell_type": "code",
   "execution_count": 34,
   "metadata": {},
   "outputs": [],
   "source": [
    "# 95% 신뢰구간을 구하는 시행을 20000번 반복하여 배열을 채워준다.\n",
    "#신뢰구간이 모평균 4를 포함하면 True\n",
    "np.random.seed(1)\n",
    "norm_dist = stats.norm(loc = 4, scale = 0.8)\n",
    "for i in range(0, 20000):\n",
    "    sample = norm_dist.rvs(size = 10)\n",
    "    df = len(sample) - 1\n",
    "    mu = np.mean(sample)\n",
    "    std = np.std(sample, ddof = 1)\n",
    "    se = std / np.sqrt(len(sample))\n",
    "    interval = stats.t.interval(0.95, df, mu, se)\n",
    "    if(interval[0] <= 4 and interval[1] >= 4):\n",
    "        be_included_array[i] = True"
   ]
  },
  {
   "cell_type": "code",
   "execution_count": 35,
   "metadata": {},
   "outputs": [
    {
     "data": {
      "text/plain": [
       "0.948"
      ]
     },
     "execution_count": 35,
     "metadata": {},
     "output_type": "execute_result"
    }
   ],
   "source": [
    "#신뢰구간이 모퍙균 4 포함한 비율 구하기\n",
    "sum(be_included_array) / len(be_included_array)"
   ]
  },
  {
   "cell_type": "markdown",
   "metadata": {
    "collapsed": true
   },
   "source": [
    "95에 가까운 값이 나온걸 볼 수 있다. 신기해라."
   ]
  }
 ],
 "metadata": {
  "kernelspec": {
   "display_name": "Python 3",
   "language": "python",
   "name": "python3"
  },
  "language_info": {
   "codemirror_mode": {
    "name": "ipython",
    "version": 3
   },
   "file_extension": ".py",
   "mimetype": "text/x-python",
   "name": "python",
   "nbconvert_exporter": "python",
   "pygments_lexer": "ipython3",
   "version": "3.8.5"
  }
 },
 "nbformat": 4,
 "nbformat_minor": 2
}
