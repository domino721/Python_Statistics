{
 "cells": [
  {
   "cell_type": "markdown",
   "metadata": {},
   "source": [
    "# ch.3　Python을 이용한 데이터 분석\n",
    "\n",
    "## 3.9 평균값의 차이 검정"
   ]
  },
  {
   "cell_type": "markdown",
   "metadata": {},
   "source": [
    "### 3.9.1 2집단 데이터에 대한 t검정\n",
    "2개의 변수 사이에서 평균값에 차이가 있는지 판단을 하기 위해 t검정 사용  \n",
    "ex. 약을 먹기 전과 먹은 후 체온차이가 있는지 알아보는 경우  \n",
    "ex. 큰 바늘로 잡은 물고기와 작은 바늘로 잡은 물고기의 몸길이에 차이가 있는지 알아보는 경우 사용"
   ]
  },
  {
   "cell_type": "markdown",
   "metadata": {},
   "source": [
    "### 3.9.2 대응표본 t검정\n",
    "| 피험자 | 약 먹기 전의 체온 | 약 먹은 후의 체온 | 차이 |\n",
    "| :----: | :---------------: | :---------------: | :--: |\n",
    "|   A    |       36.2        |       36.8        | 0.6  |\n",
    "|   B    |       36.2        |       36.1        | -0.1 |\n",
    "|   C    |       35.3        |       36.8        | 1.5  |\n",
    "|   D    |       36.1        |       37.1        | 1.0  |\n",
    "|   E    |       36.1        |       36.9        | 0.8  |  \n",
    "\n",
    "차이 열의 평균값이 0과 다르면 약을 먹기 전과 후의 체온이 다르다는 주장이가능합니다.\n",
    "대응표본 t 검정에서는 이와 같이 '차잇값이 0과 유의미한 차이가 있는지'를 가지고 1집단 t검정을 실행합니다."
   ]
  },
  {
   "cell_type": "markdown",
   "metadata": {},
   "source": [
    "### 3.9.3 분석 준비"
   ]
  },
  {
   "cell_type": "code",
   "execution_count": 12,
   "metadata": {},
   "outputs": [],
   "source": [
    "import numpy as np\n",
    "import pandas as pd\n",
    "import scipy as sp\n",
    "from scipy import stats\n",
    "\n",
    "from matplotlib import pyplot as plt\n",
    "import seaborn as sns\n",
    "sns.set()\n",
    "\n",
    "%precision 3\n",
    "\n",
    "%matplotlib inline"
   ]
  },
  {
   "cell_type": "code",
   "execution_count": 13,
   "metadata": {
    "scrolled": true
   },
   "outputs": [
    {
     "name": "stdout",
     "output_type": "stream",
     "text": [
      "  person medicine  body_temperature\n",
      "0      A   before              36.2\n",
      "1      B   before              36.2\n",
      "2      C   before              35.3\n",
      "3      D   before              36.1\n",
      "4      E   before              36.1\n",
      "5      A    after              36.8\n",
      "6      B    after              36.1\n",
      "7      C    after              36.8\n",
      "8      D    after              37.1\n",
      "9      E    after              36.9\n"
     ]
    }
   ],
   "source": [
    "#데이터 불러오기\n",
    "paired_test_data = pd.read_csv(\n",
    "    \"3-9-1-paired-t-test.csv\")\n",
    "print(paired_test_data)"
   ]
  },
  {
   "cell_type": "markdown",
   "metadata": {},
   "source": [
    "- 귀무가설: 약을 먹기 전과 후의 체온이 변하지 않는다.\n",
    "- 대립가설: 약을 먹기 전과 후의 체온이 다르다."
   ]
  },
  {
   "cell_type": "markdown",
   "metadata": {},
   "source": [
    "### 3.9.4 대응표본 t검정(실습)"
   ]
  },
  {
   "cell_type": "code",
   "execution_count": 4,
   "metadata": {},
   "outputs": [
    {
     "data": {
      "text/plain": [
       "array([ 0.6, -0.1,  1.5,  1. ,  0.8])"
      ]
     },
     "execution_count": 4,
     "metadata": {},
     "output_type": "execute_result"
    }
   ],
   "source": [
    "# 약을 먹기 전과 후의 표본평균\n",
    "before = paired_test_data.query(\n",
    "    'medicine == \"before\"')[\"body_temperature\"]\n",
    "after = paired_test_data.query(\n",
    "    'medicine == \"after\"')[\"body_temperature\"]\n",
    "# 배열형으로 변환\n",
    "before = np.array(before)\n",
    "after = np.array(after)\n",
    "# 차이 계산\n",
    "diff = after - before\n",
    "diff"
   ]
  },
  {
   "cell_type": "code",
   "execution_count": 5,
   "metadata": {},
   "outputs": [
    {
     "data": {
      "text/plain": [
       "Ttest_1sampResult(statistic=2.901693483620596, pvalue=0.044043109730074276)"
      ]
     },
     "execution_count": 5,
     "metadata": {},
     "output_type": "execute_result"
    }
   ],
   "source": [
    "# 차이값의 평균값이 0괴 다른지 1집단 t검정으로 알아본다.\n",
    "stats.ttest_1samp(diff, 0)"
   ]
  },
  {
   "cell_type": "code",
   "execution_count": 9,
   "metadata": {},
   "outputs": [
    {
     "data": {
      "text/plain": [
       "Ttest_relResult(statistic=2.901693483620596, pvalue=0.044043109730074276)"
      ]
     },
     "execution_count": 9,
     "metadata": {},
     "output_type": "execute_result"
    }
   ],
   "source": [
    "# stats.ttest_rel 함수를 이용하면 간단하게 검정가능하다.\n",
    "stats.ttest_rel(after, before)"
   ]
  },
  {
   "cell_type": "markdown",
   "metadata": {},
   "source": [
    "p값이 0.05보다 작으므로 약을 먹기 전과 후의 체온은 유의미한 차이가 있다고 할 수 있다. (귀무가설 기각)"
   ]
  },
  {
   "cell_type": "markdown",
   "metadata": {},
   "source": [
    "### 3.9.5 독립표본 t검정\n",
    "독립표본 t검정은 평균값의 차이에 주목한다.  \n",
    "이 '데이터의 차이'를 보고 1집단 t검정을 한다.  \n",
    "1집단 t검정의 경우\n",
    "(표본평균-비교대상값)/표준오차  \n",
    "로 계산하지만 변수 x와 y가 있는 평균값의 차이를 검정할 땐  \n",
    "식이 조금 더 복잡해진다.\n",
    "$$\n",
    "t=\\frac{\\mu_x-\\mu_y}{\\sqrt{{\\sigma^2_x/m} + {\\sigma^2_y/n}}}\n",
    "$$\n",
    "\n",
    "x의 표본평균과 y의 표본평균을 뺀 값을 x의 불편분산과 y의 불편분산을 더한 값의 제곱근으로 나눈다고 생각하면 된다.  \n",
    "2개의 변수로 분산이 차이가 있다는 것을 가정한 계산을 하기에 분모의 표준오차가 복잡해진다.  "
   ]
  },
  {
   "cell_type": "markdown",
   "metadata": {},
   "source": [
    "### 3.9.6 독립표본 t검정(실습)"
   ]
  },
  {
   "cell_type": "code",
   "execution_count": 10,
   "metadata": {},
   "outputs": [
    {
     "data": {
      "text/plain": [
       "3.1557282344421034"
      ]
     },
     "execution_count": 10,
     "metadata": {},
     "output_type": "execute_result"
    }
   ],
   "source": [
    "# 평균값\n",
    "mean_bef = np.mean(before)\n",
    "mean_aft = np.mean(after)\n",
    "\n",
    "# 분산\n",
    "sigma_bef = np.var(before, ddof = 1)\n",
    "sigma_aft = np.var(after, ddof = 1)\n",
    "\n",
    "# 샘플사이즈\n",
    "m = len(before)\n",
    "n = len(after)\n",
    "\n",
    "# t값\n",
    "t_value = (mean_aft - mean_bef) / \\\n",
    "    np.sqrt((sigma_bef/m + sigma_aft/n))\n",
    "t_value"
   ]
  },
  {
   "cell_type": "code",
   "execution_count": 11,
   "metadata": {},
   "outputs": [
    {
     "data": {
      "text/plain": [
       "Ttest_indResult(statistic=3.1557282344421034, pvalue=0.013484775682079892)"
      ]
     },
     "execution_count": 11,
     "metadata": {},
     "output_type": "execute_result"
    }
   ],
   "source": [
    "stats.ttest_ind(after, before, equal_var = False)"
   ]
  },
  {
   "cell_type": "markdown",
   "metadata": {
    "collapsed": true
   },
   "source": [
    "p값이 0.05보다 작으므로 유의미한 차이가 있다고 판단할 수 있다.  \n",
    "하지만 stats.ttest_rel(after, before)을 사용했을 때와 stats.ttest_ind를 사용했을 때의 p값이 다르다.  \n",
    "당연한 소리지만, 같은 데이터라도 검정방법이 달라지면 p값이 변한다."
   ]
  },
  {
   "cell_type": "markdown",
   "metadata": {},
   "source": [
    "### 3.9.7 독립표본 t 검정 (등분산)\n",
    "정석방식: 등분산성 검정 후 분산이 다르다고 가정한 t검정과 분산이 같다고 가정한 t검정을 구별한다.  \n",
    "하지만 등분산에 상관 없이 분산이 다르다고 가정한 t검정을 사용해도 상관없다.  \n",
    "welch 검정을 사용해도 된다.  \n",
    "stats.ttest_ind 함수에 equal_var = False를 지정해서 넘기면 분산이 다르다고 가정한 t검정을 시행하는 것이다."
   ]
  },
  {
   "cell_type": "markdown",
   "metadata": {},
   "source": [
    "### 3.9.8 p해킹\n",
    "\n",
    "대응표본 t검정, 독립표본 t검정 외에도 평균값의 차이를 검정하는 방법은 다양하다.  \n",
    "유의미한 차이를 이끌어내기 위해서 각각의 방법을 달리 할 수 있다.  \n",
    "하지만 검정 방법을 바꾸는 것이 아닌 데이터를 변환하여 검정하거나 데이터의 일부를 제거하는 등의 방식을 통해 유의미한 차이를 얻어내선 안된다.  \n",
    "p해킹: p값을 자의적으로 변화시키는 것."
   ]
  }
 ],
 "metadata": {
  "kernelspec": {
   "display_name": "Python 3",
   "language": "python",
   "name": "python3"
  },
  "language_info": {
   "codemirror_mode": {
    "name": "ipython",
    "version": 3
   },
   "file_extension": ".py",
   "mimetype": "text/x-python",
   "name": "python",
   "nbconvert_exporter": "python",
   "pygments_lexer": "ipython3",
   "version": "3.8.5"
  }
 },
 "nbformat": 4,
 "nbformat_minor": 2
}
