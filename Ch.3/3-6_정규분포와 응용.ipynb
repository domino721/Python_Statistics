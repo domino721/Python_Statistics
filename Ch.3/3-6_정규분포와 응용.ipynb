{
 "cells": [
  {
   "cell_type": "markdown",
   "metadata": {},
   "source": [
    "# ch.3　Python을 이용한 데이터 분석\n",
    "\n",
    "## 3.6 정규분포와 응용"
   ]
  },
  {
   "cell_type": "markdown",
   "metadata": {},
   "source": [
    "### 3.6.1 라이브러리 import"
   ]
  },
  {
   "cell_type": "code",
   "execution_count": 20,
   "metadata": {},
   "outputs": [],
   "source": [
    "import numpy as np\n",
    "import pandas as pd\n",
    "import scipy as sp\n",
    "from scipy import stats\n",
    "\n",
    "from matplotlib import pyplot as plt\n",
    "import seaborn as sns\n",
    "sns.set()\n",
    "\n",
    "%precision 3\n",
    "\n",
    "%matplotlib inline"
   ]
  },
  {
   "cell_type": "markdown",
   "metadata": {},
   "source": [
    "### 3.6.2 확률밀도\n",
    "확률말도 함수의 계산식\n",
    "$$\n",
    "\\mathcal{N}(x|\\mu,\\sigma^2)=\\frac{1}{\\sqrt{2\\pi\\sigma^2}}e^{-\\frac{(x-\\mu)^2}{2\\sigma}}\n",
    "$$"
   ]
  },
  {
   "cell_type": "code",
   "execution_count": 21,
   "metadata": {},
   "outputs": [
    {
     "data": {
      "text/plain": [
       "3.142"
      ]
     },
     "execution_count": 21,
     "metadata": {},
     "output_type": "execute_result"
    }
   ],
   "source": [
    "# 원주율 pi\n",
    "np.pi"
   ]
  },
  {
   "cell_type": "code",
   "execution_count": 22,
   "metadata": {},
   "outputs": [
    {
     "data": {
      "text/plain": [
       "2.718281828459045"
      ]
     },
     "execution_count": 22,
     "metadata": {},
     "output_type": "execute_result"
    }
   ],
   "source": [
    "# 자연상수 e^1구하기. 저 1자리에 x 넣으면 e^x다.\n",
    "np.exp(1)"
   ]
  },
  {
   "cell_type": "code",
   "execution_count": 23,
   "metadata": {},
   "outputs": [
    {
     "data": {
      "text/plain": [
       "0.22831135673627742"
      ]
     },
     "execution_count": 23,
     "metadata": {},
     "output_type": "execute_result"
    }
   ],
   "source": [
    "# 확률변수가 3일때 확률밀도 구하기. 평균은 4, 분산은 0.64로 설정. (이제 얘네 조금 지겹다.)\n",
    "x = 3\n",
    "mu = 4\n",
    "sigma = 0.8\n",
    "\n",
    "1 / (np.sqrt(2 * sp.pi * sigma**2)) * \\\n",
    "    np.exp(- ((x - mu)**2) / (2 * sigma**2))\n",
    "\n",
    "# 여기서 \\는 코드가 길어 개행하는 역할"
   ]
  },
  {
   "cell_type": "code",
   "execution_count": 24,
   "metadata": {},
   "outputs": [
    {
     "data": {
      "text/plain": [
       "0.2283113567362774"
      ]
     },
     "execution_count": 24,
     "metadata": {},
     "output_type": "execute_result"
    }
   ],
   "source": [
    "# 3.4.8에 등장했었다.확률밀도를 구하는 함수\n",
    "stats.norm.pdf(loc = 4, scale = 0.8, x = 3)"
   ]
  },
  {
   "cell_type": "code",
   "execution_count": 25,
   "metadata": {},
   "outputs": [
    {
     "data": {
      "text/plain": [
       "0.2283113567362774"
      ]
     },
     "execution_count": 25,
     "metadata": {},
     "output_type": "execute_result"
    }
   ],
   "source": [
    "# 정규분포의 인스턴스 호출\n",
    "norm_dist = stats.norm(loc = 4, scale = 0.8)\n",
    "norm_dist.pdf(x = 3)"
   ]
  },
  {
   "cell_type": "code",
   "execution_count": 26,
   "metadata": {},
   "outputs": [
    {
     "data": {
      "text/plain": [
       "[<matplotlib.lines.Line2D at 0x229a4d01a00>]"
      ]
     },
     "execution_count": 26,
     "metadata": {},
     "output_type": "execute_result"
    },
    {
     "data": {
      "image/png": "[encoded data removed]",
      "text/plain": [
       "<Figure size 432x288 with 1 Axes>"
      ]
     },
     "metadata": {
      "needs_background": "light"
     },
     "output_type": "display_data"
    }
   ],
   "source": [
    "x_plot = np.arange(start = 1, stop = 7.1, step = 0.1)\n",
    "plt.plot(\n",
    "    x_plot, \n",
    "    stats.norm.pdf(x = x_plot, loc = 4, scale = 0.8),\n",
    "    color = 'black'\n",
    ")"
   ]
  },
  {
   "cell_type": "markdown",
   "metadata": {
    "collapsed": true
   },
   "source": [
    "### 3.6.3 표본이 어떤 값 이하가 되는 비율"
   ]
  },
  {
   "cell_type": "code",
   "execution_count": 27,
   "metadata": {},
   "outputs": [
    {
     "data": {
      "text/plain": [
       "array([5.299, 3.511, 3.577, ..., 4.065, 4.275, 3.402])"
      ]
     },
     "execution_count": 27,
     "metadata": {},
     "output_type": "execute_result"
    }
   ],
   "source": [
    "#또 평균 4, 표준편차 0.8인 정규분포의 난수 추출을 100000번 수행한다.\n",
    "np.random.seed(1)\n",
    "simulated_sample = stats.norm.rvs(\n",
    "    loc = 4, scale = 0.8, size = 100000)\n",
    "simulated_sample"
   ]
  },
  {
   "cell_type": "code",
   "execution_count": 28,
   "metadata": {},
   "outputs": [
    {
     "data": {
      "text/plain": [
       "10371"
      ]
     },
     "execution_count": 28,
     "metadata": {},
     "output_type": "execute_result"
    }
   ],
   "source": [
    "# 난수들 중 3이하인 값을 더하자.\n",
    "np.sum(simulated_sample <= 3)"
   ]
  },
  {
   "cell_type": "code",
   "execution_count": 29,
   "metadata": {},
   "outputs": [
    {
     "data": {
      "text/plain": [
       "0.10371"
      ]
     },
     "execution_count": 29,
     "metadata": {},
     "output_type": "execute_result"
    }
   ],
   "source": [
    "# 위에서 더한 값을 전체 난수의 수로 나누면 비율이 구해진다. 3이하인 애들이 전체의 10%\n",
    "np.sum(simulated_sample <= 3) / len(simulated_sample)"
   ]
  },
  {
   "cell_type": "markdown",
   "metadata": {},
   "source": [
    "### 3.6.4 누적분포함수\n",
    "누적분포함수 F(x)  \n",
    "F(x)=p(X <= x)"
   ]
  },
  {
   "cell_type": "code",
   "execution_count": 30,
   "metadata": {},
   "outputs": [
    {
     "data": {
      "text/plain": [
       "0.10564977366685535"
      ]
     },
     "execution_count": 30,
     "metadata": {},
     "output_type": "execute_result"
    }
   ],
   "source": [
    "# 확률변수가 3이하가 될 확률 - 누적분포 함수구하기\n",
    "stats.norm.cdf(loc = 4, scale = 0.8, x = 3)"
   ]
  },
  {
   "cell_type": "code",
   "execution_count": 31,
   "metadata": {},
   "outputs": [
    {
     "data": {
      "text/plain": [
       "0.5"
      ]
     },
     "execution_count": 31,
     "metadata": {},
     "output_type": "execute_result"
    }
   ],
   "source": [
    "# 확률변수가 4이하가 될 확률 - 누적분포 함수구하기\n",
    "stats.norm.cdf(loc = 4, scale = 0.8, x = 4)"
   ]
  },
  {
   "cell_type": "markdown",
   "metadata": {},
   "source": [
    "### 3.6.5 하측확률과 퍼센트포인트\n",
    "하측확률: 데이터가 어떤 값 이하가 될 확률  \n",
    "- 누적분포함수를 사용해서 구한다.  \n",
    "\n",
    "퍼센트포인트: 반대로 어떤 확률이 될 기준치  \n",
    "ex. '확률변수 x가 N보다 낮을 확률은 M퍼센트다.' 에서 N은 퍼센트포인트 M은 하측확률이다."
   ]
  },
  {
   "cell_type": "code",
   "execution_count": 32,
   "metadata": {},
   "outputs": [
    {
     "data": {
      "text/plain": [
       "2.4320288123679563"
      ]
     },
     "execution_count": 32,
     "metadata": {},
     "output_type": "execute_result"
    }
   ],
   "source": [
    "# 2.5%가 되는 하측확률 구하기\n",
    "stats.norm.ppf(loc = 4, scale = 0.8, q = 0.025)"
   ]
  },
  {
   "cell_type": "code",
   "execution_count": 33,
   "metadata": {},
   "outputs": [
    {
     "data": {
      "text/plain": [
       "3.0000000000000004"
      ]
     },
     "execution_count": 33,
     "metadata": {},
     "output_type": "execute_result"
    }
   ],
   "source": [
    "# 하측확률과 퍼센트포인트의 관계\n",
    "sitagawa = stats.norm.cdf(loc = 4, scale = 0.8, x = 3) #x=3인 누적분포함수\n",
    "stats.norm.ppf(loc = 4, scale = 0.8, q = sitagawa) #퍼센트 포인트 구하는 ppf 인자로\n",
    "# cdf 함수 값 넣으면 x 값이 돌아온다."
   ]
  },
  {
   "cell_type": "code",
   "execution_count": 34,
   "metadata": {},
   "outputs": [
    {
     "data": {
      "text/plain": [
       "4.0"
      ]
     },
     "execution_count": 34,
     "metadata": {},
     "output_type": "execute_result"
    }
   ],
   "source": [
    "# 하측확률이 50%가 되는 퍼센트 포인트는 평균값과 같다.\n",
    "stats.norm.ppf(loc = 4, scale = 0.8, q = 0.5)"
   ]
  },
  {
   "cell_type": "markdown",
   "metadata": {},
   "source": [
    "### 3.6.8 t값의 표본분포\n",
    "\n",
    "'(표본평균-모평균) / 표준오차'로 계산해낸 t 값은 t분포를 따른다."
   ]
  },
  {
   "cell_type": "code",
   "execution_count": 35,
   "metadata": {},
   "outputs": [],
   "source": [
    "# 난수 시드 설정\n",
    "np.random.seed(1)\n",
    "# t값을 저장할 변수 설정\n",
    "t_value_array = np.zeros(10000)\n",
    "# 정규분포 클래스의 인스턴스\n",
    "norm_dist = stats.norm(loc = 4, scale = 0.8)\n",
    "# 시뮬레이션 시행\n",
    "for i in range(0, 10000):\n",
    "    sample = norm_dist.rvs(size = 10)\n",
    "    sample_mean = np.mean(sample)\n",
    "    sample_std = np.std(sample, ddof = 1)\n",
    "    sample_se = sample_std / np.sqrt(len(sample))\n",
    "    t_value_array[i] = (sample_mean - 4) / sample_se"
   ]
  },
  {
   "cell_type": "code",
   "execution_count": 36,
   "metadata": {},
   "outputs": [
    {
     "name": "stderr",
     "output_type": "stream",
     "text": [
      "C:\\Users\\user\\anaconda3\\lib\\site-packages\\seaborn\\distributions.py:2551: FutureWarning: `distplot` is a deprecated function and will be removed in a future version. Please adapt your code to use either `displot` (a figure-level function with similar flexibility) or `histplot` (an axes-level function for histograms).\n",
      "  warnings.warn(msg, FutureWarning)\n"
     ]
    },
    {
     "data": {
      "text/plain": [
       "[<matplotlib.lines.Line2D at 0x229a4d62b20>]"
      ]
     },
     "execution_count": 36,
     "metadata": {},
     "output_type": "execute_result"
    },
    {
     "data": {
      "image/png": "[encoded data removed]",
      "text/plain": [
       "<Figure size 432x288 with 1 Axes>"
      ]
     },
     "metadata": {
      "needs_background": "light"
     },
     "output_type": "display_data"
    }
   ],
   "source": [
    "# t 값의 히스토그램\n",
    "sns.distplot(t_value_array, color = 'black')\n",
    "\n",
    "# 표준정규분포의 확률밀도\n",
    "x = np.arange(start = -8, stop = 8.1, step = 0.1)\n",
    "plt.plot(x, stats.norm.pdf(x = x), \n",
    "         color = 'red', linestyle = 'dotted')\n",
    "\n",
    "# distplot으로 하면 저절로 히스토그램과 확률밀도 함수의 크기를 맞춰주는데\n",
    "# displot이나 histplot으로 하면 안된다. 이거 어떻게 해야할까요"
   ]
  },
  {
   "cell_type": "markdown",
   "metadata": {},
   "source": [
    "### 3.6.9 t분포\n",
    "t분포: 모집단분포가 정규분포일 때 t값의 표본분포  \n",
    "자유도가 n일 경우 t분포는 t(n)으로 표기한다.  \n",
    "샘플 사이즈가 10이라면 자유도는 9이다.  \n",
    "t(n)의 분산=n/n-2\n",
    "자유도가 커질수록 분산은 1에 가까워지고 표준정규분포와 거의 차이가 나지 않게된다.  \n",
    "\n",
    "  \n",
    "t분포는 표본(n)이 충분하지 못한 경우,\n",
    "즉 n<30일 경우, 그리고 모분산(σ2)을 모르는 경우 사용한다."
   ]
  },
  {
   "cell_type": "code",
   "execution_count": 37,
   "metadata": {},
   "outputs": [
    {
     "data": {
      "text/plain": [
       "[<matplotlib.lines.Line2D at 0x229a4c2e640>]"
      ]
     },
     "execution_count": 37,
     "metadata": {},
     "output_type": "execute_result"
    },
    {
     "data": {
      "image/png": "[encoded data removed]",
      "text/plain": [
       "<Figure size 432x288 with 1 Axes>"
      ]
     },
     "metadata": {
      "needs_background": "light"
     },
     "output_type": "display_data"
    }
   ],
   "source": [
    "# t분포의 확률밀도와 표준정규분포의 확률밀도를 겹쳐서 표시해보자.\n",
    "plt.plot(x, stats.norm.pdf(x = x), \n",
    "         color = 'black', linestyle = 'dotted')\n",
    "plt.plot(x, stats.t.pdf(x = x, df = 9), \n",
    "         color = 'black')\n",
    "\n",
    "#실선이 t분포. 밑단이 더 넓은 분포이고 평균값과 크게 다른 데이터가 발생할 확률이 높다."
   ]
  },
  {
   "cell_type": "code",
   "execution_count": 40,
   "metadata": {},
   "outputs": [
    {
     "name": "stderr",
     "output_type": "stream",
     "text": [
      "C:\\Users\\user\\anaconda3\\lib\\site-packages\\seaborn\\distributions.py:2551: FutureWarning: `distplot` is a deprecated function and will be removed in a future version. Please adapt your code to use either `displot` (a figure-level function with similar flexibility) or `histplot` (an axes-level function for histograms).\n",
      "  warnings.warn(msg, FutureWarning)\n"
     ]
    },
    {
     "data": {
      "text/plain": [
       "[<matplotlib.lines.Line2D at 0x229a5142940>]"
      ]
     },
     "execution_count": 40,
     "metadata": {},
     "output_type": "execute_result"
    },
    {
     "data": {
      "image/png": "[encoded data removed]",
      "text/plain": [
       "<Figure size 432x288 with 1 Axes>"
      ]
     },
     "metadata": {
      "needs_background": "light"
     },
     "output_type": "display_data"
    }
   ],
   "source": [
    "#시뮬레이션의 결과를 겹치면 커널밀도추정의 결과와도 일치한다.\n",
    "sns.distplot(t_value_array, \n",
    "             color = 'black', norm_hist = True)\n",
    "plt.plot(x, stats.t.pdf(x = x, df = 9), \n",
    "         color = 'black', linestyle = 'dotted')"
   ]
  },
  {
   "cell_type": "markdown",
   "metadata": {
    "collapsed": true
   },
   "source": [
    "t분포의 의의는 모분산을 모르는 상황에서도 표본평균의 분포에 대해 얘기할 수 있다는 점에 있다. t분포를 만들 때 표본에서 계산한 표준오차로 표본평균을 표준화해버렸기 때문이다."
   ]
  }
 ],
 "metadata": {
  "kernelspec": {
   "display_name": "Python 3",
   "language": "python",
   "name": "python3"
  },
  "language_info": {
   "codemirror_mode": {
    "name": "ipython",
    "version": 3
   },
   "file_extension": ".py",
   "mimetype": "text/x-python",
   "name": "python",
   "nbconvert_exporter": "python",
   "pygments_lexer": "ipython3",
   "version": "3.8.5"
  }
 },
 "nbformat": 4,
 "nbformat_minor": 2
}
