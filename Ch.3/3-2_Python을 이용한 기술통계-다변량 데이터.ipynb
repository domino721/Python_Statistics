{
 "cells": [
  {
   "cell_type": "markdown",
   "metadata": {},
   "source": [
    "# ch.3　Python을 이용한 데이터 분석\n",
    "\n",
    "## 3.2　Python을 이용한 기술통계:다변량 데이터"
   ]
  },
  {
   "cell_type": "markdown",
   "metadata": {},
   "source": [
    "### 3.2.1 깔끔한 데이터"
   ]
  },
  {
   "cell_type": "markdown",
   "metadata": {},
   "source": [
    "깔끔한 데이터의 4가지 특징\n",
    "1. 개별 값이 하나의 셀을 이룸\n",
    "2. 개별 변수가 하나의 열을 이룸\n",
    "3. 개별 관측이 하나의 행을 이룸\n",
    "4. 개별 관측 유닛 유형이 하나의 표를 이룸\n",
    "- 의미와 구조가 대응한다.\n",
    "    - 값=셀, 변수=열, 관측=행 \n",
    "      \n",
    "[깔끔한데이터 예시]  \n",
    "\n",
    "| 물고기 종류 | 물고기 몸길이 |\n",
    "| :---------: | :-----------: |\n",
    "|      A      |       2       |\n",
    "|      A      |       3       |\n",
    "|      A      |       4       |\n",
    "|      B      |       7       |\n",
    "|      B      |       8       |\n",
    "|      B      |       9       |"
   ]
  },
  {
   "cell_type": "markdown",
   "metadata": {},
   "source": [
    "### 3.2.2 지저분한 데이터\n",
    "지저분한 데이터: 깔끔한 데이터가 아닌 데이터  \n",
    "\n",
    "| A 종 물고기 |  B 종 물고기  |\n",
    "| :---------: | :-----------: |\n",
    "|      2      |       7       |\n",
    "|      3      |       8       |\n",
    "|      4      |       9       |"
   ]
  },
  {
   "cell_type": "markdown",
   "metadata": {},
   "source": [
    "### 3.2.3 교차분석표\n",
    "\n",
    "| 가게 위치  |  구두 색  | 구두가 팔린 수 |\n",
    "| :---------: | :-----------: | :-----------: |\n",
    "|      서울점      |       파랑       |       13       |\n",
    "|      서울점      |       빨강       |       9       |\n",
    "|      대구점      |       파랑       |       10       |\n",
    "|      대구점      |       빨강       |       15       |\n",
    "  \n",
    "  이 표는 의미는 명확하지만 깔끔한 데이터는 아니다. 이런 데이터를 교차분석표 또는 분할표라 한다.  \n",
    "  깔끔한 데이터가 아닌 이유는 행의 변수에 가게 위치가 있기 때문이다. 깔끔한 데이터는 행 하나에 1개의 결과가 있도록 정리해야한다."
   ]
  },
  {
   "cell_type": "markdown",
   "metadata": {},
   "source": [
    "### 3.2.4 다변량 데이터 관리하기"
   ]
  },
  {
   "cell_type": "code",
   "execution_count": 21,
   "metadata": {},
   "outputs": [
    {
     "data": {
      "text/plain": [
       "'%.3f'"
      ]
     },
     "execution_count": 21,
     "metadata": {},
     "output_type": "execute_result"
    }
   ],
   "source": [
    "# 수치 계산에 사용하는 라이브러리(pandas 두두둥장)\n",
    "import pandas as pd\n",
    "import scipy as sp\n",
    "import numpy as np\n",
    "\n",
    "# 표시 자릿수 지정\n",
    "%precision 3"
   ]
  },
  {
   "cell_type": "code",
   "execution_count": 7,
   "metadata": {},
   "outputs": [
    {
     "name": "stdout",
     "output_type": "stream",
     "text": [
      "  species  length\n",
      "0       A       2\n",
      "1       A       3\n",
      "2       A       4\n",
      "3       B       6\n",
      "4       B       8\n",
      "5       B      10\n"
     ]
    }
   ],
   "source": [
    "#다변량 데이터 불러오기\n",
    "fish_multi = pd.read_csv(\"3-2-1-fish_multi.csv\")\n",
    "print(fish_multi)"
   ]
  },
  {
   "cell_type": "markdown",
   "metadata": {},
   "source": [
    "### 3.2.5 그룹별 통계량 계산하기"
   ]
  },
  {
   "cell_type": "code",
   "execution_count": 8,
   "metadata": {},
   "outputs": [
    {
     "name": "stdout",
     "output_type": "stream",
     "text": [
      "         length\n",
      "species        \n",
      "A             3\n",
      "B             8\n"
     ]
    }
   ],
   "source": [
    "# 그룹별 평균 구하기\n",
    "group = fish_multi.groupby(\"species\")# grouphy: 데이터를 그룹화 하는 함수\n",
    "print(group.mean())"
   ]
  },
  {
   "cell_type": "code",
   "execution_count": 11,
   "metadata": {},
   "outputs": [
    {
     "name": "stdout",
     "output_type": "stream",
     "text": [
      "         length\n",
      "species        \n",
      "A           1.0\n",
      "B           2.0\n"
     ]
    }
   ],
   "source": [
    "#그룹별 표준편차 구하기\n",
    "print(group.std(ddof = 1)) # ddof는 자유도"
   ]
  },
  {
   "cell_type": "code",
   "execution_count": 13,
   "metadata": {},
   "outputs": [
    {
     "data": {
      "text/html": [
       "<div>\n",
       "<style scoped>\n",
       "    .dataframe tbody tr th:only-of-type {\n",
       "        vertical-align: middle;\n",
       "    }\n",
       "\n",
       "    .dataframe tbody tr th {\n",
       "        vertical-align: top;\n",
       "    }\n",
       "\n",
       "    .dataframe thead tr th {\n",
       "        text-align: left;\n",
       "    }\n",
       "\n",
       "    .dataframe thead tr:last-of-type th {\n",
       "        text-align: right;\n",
       "    }\n",
       "</style>\n",
       "<table border=\"1\" class=\"dataframe\">\n",
       "  <thead>\n",
       "    <tr>\n",
       "      <th></th>\n",
       "      <th colspan=\"8\" halign=\"left\">length</th>\n",
       "    </tr>\n",
       "    <tr>\n",
       "      <th></th>\n",
       "      <th>count</th>\n",
       "      <th>mean</th>\n",
       "      <th>std</th>\n",
       "      <th>min</th>\n",
       "      <th>25%</th>\n",
       "      <th>50%</th>\n",
       "      <th>75%</th>\n",
       "      <th>max</th>\n",
       "    </tr>\n",
       "    <tr>\n",
       "      <th>species</th>\n",
       "      <th></th>\n",
       "      <th></th>\n",
       "      <th></th>\n",
       "      <th></th>\n",
       "      <th></th>\n",
       "      <th></th>\n",
       "      <th></th>\n",
       "      <th></th>\n",
       "    </tr>\n",
       "  </thead>\n",
       "  <tbody>\n",
       "    <tr>\n",
       "      <th>A</th>\n",
       "      <td>3.0</td>\n",
       "      <td>3.0</td>\n",
       "      <td>1.0</td>\n",
       "      <td>2.0</td>\n",
       "      <td>2.5</td>\n",
       "      <td>3.0</td>\n",
       "      <td>3.5</td>\n",
       "      <td>4.0</td>\n",
       "    </tr>\n",
       "    <tr>\n",
       "      <th>B</th>\n",
       "      <td>3.0</td>\n",
       "      <td>8.0</td>\n",
       "      <td>2.0</td>\n",
       "      <td>6.0</td>\n",
       "      <td>7.0</td>\n",
       "      <td>8.0</td>\n",
       "      <td>9.0</td>\n",
       "      <td>10.0</td>\n",
       "    </tr>\n",
       "  </tbody>\n",
       "</table>\n",
       "</div>"
      ],
      "text/plain": [
       "        length                                    \n",
       "         count mean  std  min  25%  50%  75%   max\n",
       "species                                           \n",
       "A          3.0  3.0  1.0  2.0  2.5  3.0  3.5   4.0\n",
       "B          3.0  8.0  2.0  6.0  7.0  8.0  9.0  10.0"
      ]
     },
     "execution_count": 13,
     "metadata": {},
     "output_type": "execute_result"
    }
   ],
   "source": [
    "#다양한 값을 정리해서 표로 출력\n",
    "group.describe()"
   ]
  },
  {
   "cell_type": "markdown",
   "metadata": {},
   "source": [
    "### 3.2.6 교차분석표 구현하기"
   ]
  },
  {
   "cell_type": "code",
   "execution_count": 15,
   "metadata": {},
   "outputs": [
    {
     "name": "stdout",
     "output_type": "stream",
     "text": [
      "   store color  sales\n",
      "0  tokyo  blue     10\n",
      "1  tokyo   red     15\n",
      "2  osaka  blue     13\n",
      "3  osaka   red      9\n"
     ]
    }
   ],
   "source": [
    "# 깔끔한 데이터 읽기\n",
    "shoes = pd.read_csv(\"3-2-2-shoes.csv\")\n",
    "print(shoes)"
   ]
  },
  {
   "cell_type": "code",
   "execution_count": 16,
   "metadata": {},
   "outputs": [
    {
     "name": "stdout",
     "output_type": "stream",
     "text": [
      "color  blue  red\n",
      "store           \n",
      "osaka    13    9\n",
      "tokyo    10   15\n"
     ]
    }
   ],
   "source": [
    "# 교차분석표로 데이터 정리\n",
    "cross = pd.pivot_table(\n",
    "    data = shoes, #데이터를 지정\n",
    "    values = \"sales\", # 데이터를 모을 열 지정\n",
    "    aggfunc = \"sum\", #데이터를 모을 함수 지정\n",
    "    index = \"store\", #교차분석표의 행 지정\n",
    "    columns = \"color\"#교차분석표의 열 지정\n",
    ")\n",
    "print(cross)"
   ]
  },
  {
   "cell_type": "markdown",
   "metadata": {},
   "source": [
    "### 3.2.7 공분산\n",
    "\n",
    "  공분산: 2개의 연속향 뱐수의 관계성을 확인하는 통계량\n",
    "  - 공분산이 0보다 클 때: 양의 상관관계 (절대값이 커질 수록 더 강한 상관관계)\n",
    "  - 공분산이 0보다 작을 때: 음의 상관관계 (절대값이 작아질 수록 더 강한 상관관계)\n",
    "  - 공분산이 0일 떄: 변수 사이에 관계성이 없다.\n",
    "  \n",
    "  공분산의 계산식\n",
    "  $$\n",
    "  Cov(x,y)=\\frac{1}{N}\\sum_{i=1}^{N}{(x_i-\\mu_x)}{(y_i-\\mu_y)}\n",
    "  $$\n",
    "  x_i와 y_i는 각각 x와 y의 평균이다.N은 표본크기, Cov는 Covariance(공분산)의 약자이다."
   ]
  },
  {
   "cell_type": "markdown",
   "metadata": {},
   "source": [
    "### 3.2.8 분산-공분산 행렬\n",
    "분산과 공분산 목록을 행렬형태로 정리한것.\n",
    "  $$\n",
    "  \\begin{bmatrix}\n",
    "\\sigma_x^2 & Cov(x,y) \\\\\n",
    "Cov(x,y) & \\sigma_y^2\n",
    "\\end{bmatrix}\n",
    "  $$"
   ]
  },
  {
   "cell_type": "markdown",
   "metadata": {},
   "source": [
    "### 3.2.9 공분산(실습)"
   ]
  },
  {
   "cell_type": "code",
   "execution_count": 17,
   "metadata": {},
   "outputs": [
    {
     "name": "stdout",
     "output_type": "stream",
     "text": [
      "      x   y\n",
      "0  18.5  34\n",
      "1  18.7  39\n",
      "2  19.1  41\n",
      "3  19.7  38\n",
      "4  21.5  45\n",
      "5  21.7  41\n",
      "6  21.8  52\n",
      "7  22.0  44\n",
      "8  23.4  44\n",
      "9  23.8  49\n"
     ]
    }
   ],
   "source": [
    "cov_data = pd.read_csv(\"3-2-3-cov.csv\")\n",
    "print(cov_data)"
   ]
  },
  {
   "cell_type": "code",
   "execution_count": 22,
   "metadata": {},
   "outputs": [],
   "source": [
    "# 데이터 분리\n",
    "x = cov_data[\"x\"]\n",
    "y = cov_data[\"y\"]\n",
    "\n",
    "# 표본 크기\n",
    "N = len(cov_data)\n",
    "\n",
    "# 평균값 계산\n",
    "mu_x = np.mean(x)\n",
    "mu_y = np.mean(y)"
   ]
  },
  {
   "cell_type": "code",
   "execution_count": 36,
   "metadata": {},
   "outputs": [
    {
     "data": {
      "text/plain": [
       "6.906"
      ]
     },
     "execution_count": 36,
     "metadata": {},
     "output_type": "execute_result"
    }
   ],
   "source": [
    "# 공분산 계산\n",
    "cov_sample = sum((x - mu_x) * (y - mu_y)) / N\n",
    "cov_sample"
   ]
  },
  {
   "cell_type": "code",
   "execution_count": 23,
   "metadata": {},
   "outputs": [
    {
     "data": {
      "text/plain": [
       "7.673"
      ]
     },
     "execution_count": 23,
     "metadata": {},
     "output_type": "execute_result"
    }
   ],
   "source": [
    "# 30 이하의 공분산 계산\n",
    "cov = sum((x - mu_x) * (y - mu_y)) / (N - 1)\n",
    "cov"
   ]
  },
  {
   "cell_type": "markdown",
   "metadata": {
    "collapsed": true
   },
   "source": [
    "### 3.2.10 분산-공분산 행렬(실습)"
   ]
  },
  {
   "cell_type": "code",
   "execution_count": 26,
   "metadata": {},
   "outputs": [
    {
     "data": {
      "text/plain": [
       "array([[ 3.282,  6.906],\n",
       "       [ 6.906, 25.21 ]])"
      ]
     },
     "execution_count": 26,
     "metadata": {},
     "output_type": "execute_result"
    }
   ],
   "source": [
    "# cov함수 이용하여 행렬로 계산\n",
    "np.cov(x, y, ddof = 0)"
   ]
  },
  {
   "cell_type": "code",
   "execution_count": 28,
   "metadata": {},
   "outputs": [
    {
     "data": {
      "text/plain": [
       "array([[ 3.646,  7.673],\n",
       "       [ 7.673, 28.011]])"
      ]
     },
     "execution_count": 28,
     "metadata": {},
     "output_type": "execute_result"
    }
   ],
   "source": [
    "# cov 함수 이용하여 데이터 30개 이하일때, N-1로 계산\n",
    "np.cov(x, y, ddof = 1) # ddof=1로 지정"
   ]
  },
  {
   "cell_type": "markdown",
   "metadata": {
    "collapsed": true
   },
   "source": [
    "### 3.2.11 피어슨 상관계수\n",
    "\n",
    "  피어슨 상관계수: 변수 x,y가 있을때 공분산을 각각의 표준편차로 나눈 값\n",
    "  \n",
    "  이 계산 과정을 통해 공분산이 최대값 1, 최소값 -1 사이가 되도록 표준화하는 것이기도 하다."
   ]
  },
  {
   "cell_type": "markdown",
   "metadata": {},
   "source": [
    "### 3.2.12 상관행렬\n",
    "\n",
    "$$\n",
    "  \\begin{bmatrix}\n",
    "1 & p_{xy} \\\\\n",
    "p_{xy} & 1\n",
    "\\end{bmatrix}\n",
    "  $$"
   ]
  },
  {
   "cell_type": "markdown",
   "metadata": {},
   "source": [
    "### 3.2.13 피어슨 상관계수(실습)"
   ]
  },
  {
   "cell_type": "code",
   "execution_count": 32,
   "metadata": {},
   "outputs": [
    {
     "data": {
      "text/plain": [
       "0.7592719041137088"
      ]
     },
     "execution_count": 32,
     "metadata": {},
     "output_type": "execute_result"
    }
   ],
   "source": [
    "# 분산 계산\n",
    "sigma_2_x = np.var(x, ddof = 1)\n",
    "sigma_2_y = np.var(y, ddof = 1)\n",
    "\n",
    "# 상관계수\n",
    "rho = cov / np.sqrt(sigma_2_x * sigma_2_y)\n",
    "rho"
   ]
  },
  {
   "cell_type": "code",
   "execution_count": 37,
   "metadata": {},
   "outputs": [
    {
     "data": {
      "text/plain": [
       "0.7592719041137087"
      ]
     },
     "execution_count": 37,
     "metadata": {},
     "output_type": "execute_result"
    }
   ],
   "source": [
    "# 분산 계산\n",
    "sigma_2_x_sample = np.var(x, ddof = 0)\n",
    "sigma_2_y_sample = np.var(y, ddof = 0)\n",
    "\n",
    "# 상관계수\n",
    "cov_sample / np.sqrt(sigma_2_x_sample * sigma_2_y_sample)"
   ]
  },
  {
   "cell_type": "code",
   "execution_count": 38,
   "metadata": {},
   "outputs": [
    {
     "data": {
      "text/plain": [
       "array([[1.   , 0.759],\n",
       "       [0.759, 1.   ]])"
      ]
     },
     "execution_count": 38,
     "metadata": {},
     "output_type": "execute_result"
    }
   ],
   "source": [
    "# corrcoef 함수를 사용하면 상관행렬을 바로 구할 수 있다.\n",
    "np.corrcoef(x, y)"
   ]
  },
  {
   "cell_type": "markdown",
   "metadata": {
    "collapsed": true
   },
   "source": [
    "분산-공분산 행렬, 상관행렬에 대해 자세히 알 필요는 없지만 각각의 위치가 무엇을 표현하는지는 알 필요가 있다. 이걸 알고 있으면 복잡한 계산식을 코드로 표현하지 않고 바로 구할 수 있다."
   ]
  },
  {
   "cell_type": "markdown",
   "metadata": {},
   "source": [
    "### 3.2.14 상관계수가 무의미할 때\n",
    "\n",
    "  상관계수가 0에 가까운 값을 나타낼땐 여러 변수사이의 관계를 제대로 나타내지 못하므로 실제 그래프를 그려서 관계를 확인해봐야한다."
   ]
  }
 ],
 "metadata": {
  "kernelspec": {
   "display_name": "Python 3",
   "language": "python",
   "name": "python3"
  },
  "language_info": {
   "codemirror_mode": {
    "name": "ipython",
    "version": 3
   },
   "file_extension": ".py",
   "mimetype": "text/x-python",
   "name": "python",
   "nbconvert_exporter": "python",
   "pygments_lexer": "ipython3",
   "version": "3.8.5"
  }
 },
 "nbformat": 4,
 "nbformat_minor": 2
}
